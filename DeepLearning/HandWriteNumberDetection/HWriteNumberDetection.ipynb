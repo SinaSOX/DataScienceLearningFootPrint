{
 "cells": [
  {
   "cell_type": "code",
   "execution_count": 112,
   "metadata": {},
   "outputs": [],
   "source": [
    "# Developed by SinaSeifouri\n",
    "# Github: SinaSOX\n",
    "# Dataset: MNIST Dataset from sklearn"
   ]
  },
  {
   "cell_type": "code",
   "execution_count": 74,
   "metadata": {},
   "outputs": [],
   "source": [
    "import numpy as np\n",
    "import tensorflow as tf\n",
    "from sklearn.datasets import load_digits\n",
    "import matplotlib.pyplot as plt\n",
    "import pandas as pd"
   ]
  },
  {
   "cell_type": "code",
   "execution_count": 75,
   "metadata": {},
   "outputs": [],
   "source": [
    "data = load_digits()"
   ]
  },
  {
   "cell_type": "code",
   "execution_count": 76,
   "metadata": {},
   "outputs": [
    {
     "name": "stdout",
     "output_type": "stream",
     "text": [
      "(1797, 64)\n"
     ]
    }
   ],
   "source": [
    "print(data.data.shape)"
   ]
  },
  {
   "cell_type": "code",
   "execution_count": 77,
   "metadata": {},
   "outputs": [
    {
     "data": {
      "text/plain": [
       "<matplotlib.image.AxesImage at 0x7fb2227976d0>"
      ]
     },
     "execution_count": 77,
     "metadata": {},
     "output_type": "execute_result"
    },
    {
     "data": {
      "image/png": "[encoded data removed]",
      "text/plain": [
       "<Figure size 432x288 with 1 Axes>"
      ]
     },
     "metadata": {
      "needs_background": "light"
     },
     "output_type": "display_data"
    }
   ],
   "source": [
    "plt.gray()\n",
    "plt.imshow(data.images[9],)"
   ]
  },
  {
   "cell_type": "code",
   "execution_count": 78,
   "metadata": {},
   "outputs": [
    {
     "data": {
      "text/plain": [
       "array([[ 0.,  0., 11., 12.,  0.,  0.,  0.,  0.],\n",
       "       [ 0.,  2., 16., 16., 16., 13.,  0.,  0.],\n",
       "       [ 0.,  3., 16., 12., 10., 14.,  0.,  0.],\n",
       "       [ 0.,  1., 16.,  1., 12., 15.,  0.,  0.],\n",
       "       [ 0.,  0., 13., 16.,  9., 15.,  2.,  0.],\n",
       "       [ 0.,  0.,  0.,  3.,  0.,  9., 11.,  0.],\n",
       "       [ 0.,  0.,  0.,  0.,  9., 15.,  4.,  0.],\n",
       "       [ 0.,  0.,  9., 12., 13.,  3.,  0.,  0.]])"
      ]
     },
     "execution_count": 78,
     "metadata": {},
     "output_type": "execute_result"
    }
   ],
   "source": [
    "data.images[9]"
   ]
  },
  {
   "cell_type": "code",
   "execution_count": 79,
   "metadata": {},
   "outputs": [
    {
     "data": {
      "text/plain": [
       "(1797, 8, 8)"
      ]
     },
     "execution_count": 79,
     "metadata": {},
     "output_type": "execute_result"
    }
   ],
   "source": [
    "data.images.shape"
   ]
  },
  {
   "cell_type": "code",
   "execution_count": 80,
   "metadata": {},
   "outputs": [
    {
     "data": {
      "text/plain": [
       "array([[ 0.,  0.,  5., ...,  0.,  0.,  0.],\n",
       "       [ 0.,  0.,  0., ..., 10.,  0.,  0.],\n",
       "       [ 0.,  0.,  0., ..., 16.,  9.,  0.],\n",
       "       ...,\n",
       "       [ 0.,  0.,  1., ...,  6.,  0.,  0.],\n",
       "       [ 0.,  0.,  2., ..., 12.,  0.,  0.],\n",
       "       [ 0.,  0., 10., ..., 12.,  1.,  0.]])"
      ]
     },
     "execution_count": 80,
     "metadata": {},
     "output_type": "execute_result"
    }
   ],
   "source": [
    "prep_data = data.images.reshape(1797,64)\n",
    "prep_data"
   ]
  },
  {
   "cell_type": "code",
   "execution_count": 81,
   "metadata": {},
   "outputs": [
    {
     "data": {
      "text/html": [
       "<div>\n",
       "<style scoped>\n",
       "    .dataframe tbody tr th:only-of-type {\n",
       "        vertical-align: middle;\n",
       "    }\n",
       "\n",
       "    .dataframe tbody tr th {\n",
       "        vertical-align: top;\n",
       "    }\n",
       "\n",
       "    .dataframe thead th {\n",
       "        text-align: right;\n",
       "    }\n",
       "</style>\n",
       "<table border=\"1\" class=\"dataframe\">\n",
       "  <thead>\n",
       "    <tr style=\"text-align: right;\">\n",
       "      <th></th>\n",
       "      <th>0</th>\n",
       "      <th>1</th>\n",
       "      <th>2</th>\n",
       "      <th>3</th>\n",
       "      <th>4</th>\n",
       "      <th>5</th>\n",
       "      <th>6</th>\n",
       "      <th>7</th>\n",
       "      <th>8</th>\n",
       "      <th>9</th>\n",
       "    </tr>\n",
       "  </thead>\n",
       "  <tbody>\n",
       "    <tr>\n",
       "      <th>0</th>\n",
       "      <td>1</td>\n",
       "      <td>0</td>\n",
       "      <td>0</td>\n",
       "      <td>0</td>\n",
       "      <td>0</td>\n",
       "      <td>0</td>\n",
       "      <td>0</td>\n",
       "      <td>0</td>\n",
       "      <td>0</td>\n",
       "      <td>0</td>\n",
       "    </tr>\n",
       "    <tr>\n",
       "      <th>1</th>\n",
       "      <td>0</td>\n",
       "      <td>1</td>\n",
       "      <td>0</td>\n",
       "      <td>0</td>\n",
       "      <td>0</td>\n",
       "      <td>0</td>\n",
       "      <td>0</td>\n",
       "      <td>0</td>\n",
       "      <td>0</td>\n",
       "      <td>0</td>\n",
       "    </tr>\n",
       "    <tr>\n",
       "      <th>2</th>\n",
       "      <td>0</td>\n",
       "      <td>0</td>\n",
       "      <td>1</td>\n",
       "      <td>0</td>\n",
       "      <td>0</td>\n",
       "      <td>0</td>\n",
       "      <td>0</td>\n",
       "      <td>0</td>\n",
       "      <td>0</td>\n",
       "      <td>0</td>\n",
       "    </tr>\n",
       "    <tr>\n",
       "      <th>3</th>\n",
       "      <td>0</td>\n",
       "      <td>0</td>\n",
       "      <td>0</td>\n",
       "      <td>1</td>\n",
       "      <td>0</td>\n",
       "      <td>0</td>\n",
       "      <td>0</td>\n",
       "      <td>0</td>\n",
       "      <td>0</td>\n",
       "      <td>0</td>\n",
       "    </tr>\n",
       "    <tr>\n",
       "      <th>4</th>\n",
       "      <td>0</td>\n",
       "      <td>0</td>\n",
       "      <td>0</td>\n",
       "      <td>0</td>\n",
       "      <td>1</td>\n",
       "      <td>0</td>\n",
       "      <td>0</td>\n",
       "      <td>0</td>\n",
       "      <td>0</td>\n",
       "      <td>0</td>\n",
       "    </tr>\n",
       "    <tr>\n",
       "      <th>...</th>\n",
       "      <td>...</td>\n",
       "      <td>...</td>\n",
       "      <td>...</td>\n",
       "      <td>...</td>\n",
       "      <td>...</td>\n",
       "      <td>...</td>\n",
       "      <td>...</td>\n",
       "      <td>...</td>\n",
       "      <td>...</td>\n",
       "      <td>...</td>\n",
       "    </tr>\n",
       "    <tr>\n",
       "      <th>1792</th>\n",
       "      <td>0</td>\n",
       "      <td>0</td>\n",
       "      <td>0</td>\n",
       "      <td>0</td>\n",
       "      <td>0</td>\n",
       "      <td>0</td>\n",
       "      <td>0</td>\n",
       "      <td>0</td>\n",
       "      <td>0</td>\n",
       "      <td>1</td>\n",
       "    </tr>\n",
       "    <tr>\n",
       "      <th>1793</th>\n",
       "      <td>1</td>\n",
       "      <td>0</td>\n",
       "      <td>0</td>\n",
       "      <td>0</td>\n",
       "      <td>0</td>\n",
       "      <td>0</td>\n",
       "      <td>0</td>\n",
       "      <td>0</td>\n",
       "      <td>0</td>\n",
       "      <td>0</td>\n",
       "    </tr>\n",
       "    <tr>\n",
       "      <th>1794</th>\n",
       "      <td>0</td>\n",
       "      <td>0</td>\n",
       "      <td>0</td>\n",
       "      <td>0</td>\n",
       "      <td>0</td>\n",
       "      <td>0</td>\n",
       "      <td>0</td>\n",
       "      <td>0</td>\n",
       "      <td>1</td>\n",
       "      <td>0</td>\n",
       "    </tr>\n",
       "    <tr>\n",
       "      <th>1795</th>\n",
       "      <td>0</td>\n",
       "      <td>0</td>\n",
       "      <td>0</td>\n",
       "      <td>0</td>\n",
       "      <td>0</td>\n",
       "      <td>0</td>\n",
       "      <td>0</td>\n",
       "      <td>0</td>\n",
       "      <td>0</td>\n",
       "      <td>1</td>\n",
       "    </tr>\n",
       "    <tr>\n",
       "      <th>1796</th>\n",
       "      <td>0</td>\n",
       "      <td>0</td>\n",
       "      <td>0</td>\n",
       "      <td>0</td>\n",
       "      <td>0</td>\n",
       "      <td>0</td>\n",
       "      <td>0</td>\n",
       "      <td>0</td>\n",
       "      <td>1</td>\n",
       "      <td>0</td>\n",
       "    </tr>\n",
       "  </tbody>\n",
       "</table>\n",
       "<p>1797 rows × 10 columns</p>\n",
       "</div>"
      ],
      "text/plain": [
       "      0  1  2  3  4  5  6  7  8  9\n",
       "0     1  0  0  0  0  0  0  0  0  0\n",
       "1     0  1  0  0  0  0  0  0  0  0\n",
       "2     0  0  1  0  0  0  0  0  0  0\n",
       "3     0  0  0  1  0  0  0  0  0  0\n",
       "4     0  0  0  0  1  0  0  0  0  0\n",
       "...  .. .. .. .. .. .. .. .. .. ..\n",
       "1792  0  0  0  0  0  0  0  0  0  1\n",
       "1793  1  0  0  0  0  0  0  0  0  0\n",
       "1794  0  0  0  0  0  0  0  0  1  0\n",
       "1795  0  0  0  0  0  0  0  0  0  1\n",
       "1796  0  0  0  0  0  0  0  0  1  0\n",
       "\n",
       "[1797 rows x 10 columns]"
      ]
     },
     "execution_count": 81,
     "metadata": {},
     "output_type": "execute_result"
    }
   ],
   "source": [
    "y = data.target\n",
    "y = pd.get_dummies(y)\n",
    "y"
   ]
  },
  {
   "cell_type": "code",
   "execution_count": 82,
   "metadata": {},
   "outputs": [],
   "source": [
    "# Normilizing image pixels"
   ]
  },
  {
   "cell_type": "code",
   "execution_count": 83,
   "metadata": {},
   "outputs": [],
   "source": [
    "from sklearn.preprocessing import MinMaxScaler"
   ]
  },
  {
   "cell_type": "code",
   "execution_count": 84,
   "metadata": {},
   "outputs": [],
   "source": [
    "minmax_model = MinMaxScaler()"
   ]
  },
  {
   "cell_type": "code",
   "execution_count": 85,
   "metadata": {},
   "outputs": [],
   "source": [
    "x = minmax_model.fit_transform(prep_data)"
   ]
  },
  {
   "cell_type": "code",
   "execution_count": 103,
   "metadata": {},
   "outputs": [
    {
     "data": {
      "text/plain": [
       "(1797, 64)"
      ]
     },
     "execution_count": 103,
     "metadata": {},
     "output_type": "execute_result"
    }
   ],
   "source": [
    "x.shape"
   ]
  },
  {
   "cell_type": "code",
   "execution_count": 87,
   "metadata": {},
   "outputs": [],
   "source": [
    "# Train Test split"
   ]
  },
  {
   "cell_type": "code",
   "execution_count": 88,
   "metadata": {},
   "outputs": [],
   "source": [
    "from sklearn.model_selection import train_test_split "
   ]
  },
  {
   "cell_type": "code",
   "execution_count": 89,
   "metadata": {},
   "outputs": [],
   "source": [
    "x_train,x_test,y_train,y_test = train_test_split(x,y,random_state=79)"
   ]
  },
  {
   "cell_type": "code",
   "execution_count": 90,
   "metadata": {},
   "outputs": [],
   "source": [
    "model = tf.keras.models.Sequential()"
   ]
  },
  {
   "cell_type": "code",
   "execution_count": 91,
   "metadata": {},
   "outputs": [],
   "source": [
    "model.add(tf.keras.layers.InputLayer(input_shape=64))"
   ]
  },
  {
   "cell_type": "code",
   "execution_count": 92,
   "metadata": {},
   "outputs": [],
   "source": [
    "model.add(tf.keras.layers.Dense(50,activation='relu'))"
   ]
  },
  {
   "cell_type": "code",
   "execution_count": 93,
   "metadata": {},
   "outputs": [],
   "source": [
    "model.add(tf.keras.layers.Dense(20,activation='relu'))"
   ]
  },
  {
   "cell_type": "code",
   "execution_count": 94,
   "metadata": {},
   "outputs": [],
   "source": [
    "model.add(tf.keras.layers.Dense(10,activation='softmax'))"
   ]
  },
  {
   "cell_type": "code",
   "execution_count": 95,
   "metadata": {},
   "outputs": [],
   "source": [
    "model.compile(optimizer='Adam',loss=tf.keras.losses.CategoricalCrossentropy(),metrics='CategoricalAccuracy')"
   ]
  },
  {
   "cell_type": "code",
   "execution_count": 96,
   "metadata": {},
   "outputs": [
    {
     "name": "stdout",
     "output_type": "stream",
     "text": [
      "Epoch 1/50\n",
      "14/14 [==============================] - 1s 13ms/step - loss: 2.2397 - categorical_accuracy: 0.1656 - val_loss: 2.1150 - val_categorical_accuracy: 0.3489\n",
      "Epoch 2/50\n",
      "14/14 [==============================] - 0s 5ms/step - loss: 2.0339 - categorical_accuracy: 0.4432 - val_loss: 1.9193 - val_categorical_accuracy: 0.5200\n",
      "Epoch 3/50\n",
      "14/14 [==============================] - 0s 4ms/step - loss: 1.8224 - categorical_accuracy: 0.5969 - val_loss: 1.6977 - val_categorical_accuracy: 0.6222\n",
      "Epoch 4/50\n",
      "14/14 [==============================] - 0s 5ms/step - loss: 1.5900 - categorical_accuracy: 0.6778 - val_loss: 1.4612 - val_categorical_accuracy: 0.6622\n",
      "Epoch 5/50\n",
      "14/14 [==============================] - 0s 5ms/step - loss: 1.3484 - categorical_accuracy: 0.7454 - val_loss: 1.2326 - val_categorical_accuracy: 0.7578\n",
      "Epoch 6/50\n",
      "14/14 [==============================] - 0s 6ms/step - loss: 1.1292 - categorical_accuracy: 0.8144 - val_loss: 1.0298 - val_categorical_accuracy: 0.8156\n",
      "Epoch 7/50\n",
      "14/14 [==============================] - 0s 6ms/step - loss: 0.9343 - categorical_accuracy: 0.8434 - val_loss: 0.8566 - val_categorical_accuracy: 0.8533\n",
      "Epoch 8/50\n",
      "14/14 [==============================] - 0s 6ms/step - loss: 0.7710 - categorical_accuracy: 0.8656 - val_loss: 0.7165 - val_categorical_accuracy: 0.8844\n",
      "Epoch 9/50\n",
      "14/14 [==============================] - 0s 6ms/step - loss: 0.6441 - categorical_accuracy: 0.8842 - val_loss: 0.6103 - val_categorical_accuracy: 0.8956\n",
      "Epoch 10/50\n",
      "14/14 [==============================] - 0s 5ms/step - loss: 0.5464 - categorical_accuracy: 0.8990 - val_loss: 0.5273 - val_categorical_accuracy: 0.9000\n",
      "Epoch 11/50\n",
      "14/14 [==============================] - 0s 6ms/step - loss: 0.4740 - categorical_accuracy: 0.9027 - val_loss: 0.4611 - val_categorical_accuracy: 0.9111\n",
      "Epoch 12/50\n",
      "14/14 [==============================] - 0s 6ms/step - loss: 0.4137 - categorical_accuracy: 0.9139 - val_loss: 0.4119 - val_categorical_accuracy: 0.9089\n",
      "Epoch 13/50\n",
      "14/14 [==============================] - 0s 6ms/step - loss: 0.3698 - categorical_accuracy: 0.9220 - val_loss: 0.3707 - val_categorical_accuracy: 0.9200\n",
      "Epoch 14/50\n",
      "14/14 [==============================] - 0s 5ms/step - loss: 0.3336 - categorical_accuracy: 0.9302 - val_loss: 0.3459 - val_categorical_accuracy: 0.9222\n",
      "Epoch 15/50\n",
      "14/14 [==============================] - 0s 5ms/step - loss: 0.3033 - categorical_accuracy: 0.9332 - val_loss: 0.3146 - val_categorical_accuracy: 0.9267\n",
      "Epoch 16/50\n",
      "14/14 [==============================] - 0s 5ms/step - loss: 0.2769 - categorical_accuracy: 0.9399 - val_loss: 0.2930 - val_categorical_accuracy: 0.9311\n",
      "Epoch 17/50\n",
      "14/14 [==============================] - 0s 6ms/step - loss: 0.2543 - categorical_accuracy: 0.9480 - val_loss: 0.2731 - val_categorical_accuracy: 0.9400\n",
      "Epoch 18/50\n",
      "14/14 [==============================] - 0s 6ms/step - loss: 0.2350 - categorical_accuracy: 0.9458 - val_loss: 0.2611 - val_categorical_accuracy: 0.9400\n",
      "Epoch 19/50\n",
      "14/14 [==============================] - 0s 5ms/step - loss: 0.2200 - categorical_accuracy: 0.9547 - val_loss: 0.2432 - val_categorical_accuracy: 0.9422\n",
      "Epoch 20/50\n",
      "14/14 [==============================] - 0s 5ms/step - loss: 0.2060 - categorical_accuracy: 0.9584 - val_loss: 0.2317 - val_categorical_accuracy: 0.9444\n",
      "Epoch 21/50\n",
      "14/14 [==============================] - 0s 5ms/step - loss: 0.1934 - categorical_accuracy: 0.9584 - val_loss: 0.2204 - val_categorical_accuracy: 0.9422\n",
      "Epoch 22/50\n",
      "14/14 [==============================] - 0s 5ms/step - loss: 0.1838 - categorical_accuracy: 0.9621 - val_loss: 0.2096 - val_categorical_accuracy: 0.9467\n",
      "Epoch 23/50\n",
      "14/14 [==============================] - 0s 6ms/step - loss: 0.1732 - categorical_accuracy: 0.9651 - val_loss: 0.2043 - val_categorical_accuracy: 0.9511\n",
      "Epoch 24/50\n",
      "14/14 [==============================] - 0s 6ms/step - loss: 0.1634 - categorical_accuracy: 0.9673 - val_loss: 0.1922 - val_categorical_accuracy: 0.9511\n",
      "Epoch 25/50\n",
      "14/14 [==============================] - 0s 6ms/step - loss: 0.1551 - categorical_accuracy: 0.9718 - val_loss: 0.1916 - val_categorical_accuracy: 0.9511\n",
      "Epoch 26/50\n",
      "14/14 [==============================] - 0s 7ms/step - loss: 0.1485 - categorical_accuracy: 0.9688 - val_loss: 0.1816 - val_categorical_accuracy: 0.9600\n",
      "Epoch 27/50\n",
      "14/14 [==============================] - 0s 6ms/step - loss: 0.1397 - categorical_accuracy: 0.9748 - val_loss: 0.1756 - val_categorical_accuracy: 0.9578\n",
      "Epoch 28/50\n",
      "14/14 [==============================] - 0s 4ms/step - loss: 0.1341 - categorical_accuracy: 0.9770 - val_loss: 0.1717 - val_categorical_accuracy: 0.9556\n",
      "Epoch 29/50\n",
      "14/14 [==============================] - 0s 4ms/step - loss: 0.1287 - categorical_accuracy: 0.9748 - val_loss: 0.1693 - val_categorical_accuracy: 0.9600\n",
      "Epoch 30/50\n",
      "14/14 [==============================] - 0s 4ms/step - loss: 0.1236 - categorical_accuracy: 0.9785 - val_loss: 0.1616 - val_categorical_accuracy: 0.9622\n",
      "Epoch 31/50\n",
      "14/14 [==============================] - 0s 5ms/step - loss: 0.1188 - categorical_accuracy: 0.9770 - val_loss: 0.1580 - val_categorical_accuracy: 0.9622\n",
      "Epoch 32/50\n",
      "14/14 [==============================] - 0s 5ms/step - loss: 0.1152 - categorical_accuracy: 0.9800 - val_loss: 0.1570 - val_categorical_accuracy: 0.9622\n",
      "Epoch 33/50\n",
      "14/14 [==============================] - 0s 6ms/step - loss: 0.1097 - categorical_accuracy: 0.9822 - val_loss: 0.1506 - val_categorical_accuracy: 0.9644\n",
      "Epoch 34/50\n",
      "14/14 [==============================] - 0s 6ms/step - loss: 0.1049 - categorical_accuracy: 0.9800 - val_loss: 0.1502 - val_categorical_accuracy: 0.9644\n",
      "Epoch 35/50\n",
      "14/14 [==============================] - 0s 5ms/step - loss: 0.1016 - categorical_accuracy: 0.9822 - val_loss: 0.1469 - val_categorical_accuracy: 0.9667\n",
      "Epoch 36/50\n",
      "14/14 [==============================] - 0s 6ms/step - loss: 0.0979 - categorical_accuracy: 0.9822 - val_loss: 0.1400 - val_categorical_accuracy: 0.9667\n",
      "Epoch 37/50\n",
      "14/14 [==============================] - 0s 5ms/step - loss: 0.0945 - categorical_accuracy: 0.9829 - val_loss: 0.1416 - val_categorical_accuracy: 0.9667\n",
      "Epoch 38/50\n",
      "14/14 [==============================] - 0s 7ms/step - loss: 0.0924 - categorical_accuracy: 0.9837 - val_loss: 0.1385 - val_categorical_accuracy: 0.9667\n",
      "Epoch 39/50\n",
      "14/14 [==============================] - 0s 6ms/step - loss: 0.0899 - categorical_accuracy: 0.9837 - val_loss: 0.1387 - val_categorical_accuracy: 0.9667\n",
      "Epoch 40/50\n",
      "14/14 [==============================] - 0s 6ms/step - loss: 0.0859 - categorical_accuracy: 0.9844 - val_loss: 0.1314 - val_categorical_accuracy: 0.9689\n",
      "Epoch 41/50\n",
      "14/14 [==============================] - 0s 6ms/step - loss: 0.0837 - categorical_accuracy: 0.9829 - val_loss: 0.1337 - val_categorical_accuracy: 0.9711\n",
      "Epoch 42/50\n",
      "14/14 [==============================] - 0s 4ms/step - loss: 0.0803 - categorical_accuracy: 0.9859 - val_loss: 0.1295 - val_categorical_accuracy: 0.9667\n",
      "Epoch 43/50\n",
      "14/14 [==============================] - 0s 5ms/step - loss: 0.0780 - categorical_accuracy: 0.9859 - val_loss: 0.1284 - val_categorical_accuracy: 0.9711\n",
      "Epoch 44/50\n",
      "14/14 [==============================] - 0s 4ms/step - loss: 0.0760 - categorical_accuracy: 0.9859 - val_loss: 0.1273 - val_categorical_accuracy: 0.9711\n",
      "Epoch 45/50\n",
      "14/14 [==============================] - 0s 4ms/step - loss: 0.0741 - categorical_accuracy: 0.9859 - val_loss: 0.1269 - val_categorical_accuracy: 0.9689\n",
      "Epoch 46/50\n",
      "14/14 [==============================] - 0s 5ms/step - loss: 0.0709 - categorical_accuracy: 0.9874 - val_loss: 0.1237 - val_categorical_accuracy: 0.9711\n",
      "Epoch 47/50\n",
      "14/14 [==============================] - 0s 5ms/step - loss: 0.0689 - categorical_accuracy: 0.9874 - val_loss: 0.1222 - val_categorical_accuracy: 0.9711\n",
      "Epoch 48/50\n",
      "14/14 [==============================] - 0s 6ms/step - loss: 0.0666 - categorical_accuracy: 0.9874 - val_loss: 0.1204 - val_categorical_accuracy: 0.9711\n",
      "Epoch 49/50\n",
      "14/14 [==============================] - 0s 5ms/step - loss: 0.0654 - categorical_accuracy: 0.9881 - val_loss: 0.1203 - val_categorical_accuracy: 0.9711\n",
      "Epoch 50/50\n",
      "14/14 [==============================] - 0s 5ms/step - loss: 0.0637 - categorical_accuracy: 0.9889 - val_loss: 0.1182 - val_categorical_accuracy: 0.9711\n"
     ]
    },
    {
     "data": {
      "text/plain": [
       "<keras.callbacks.History at 0x7fb283d87eb0>"
      ]
     },
     "execution_count": 96,
     "metadata": {},
     "output_type": "execute_result"
    }
   ],
   "source": [
    "model.fit(x_train,y_train,epochs=50,validation_data=(x_test,y_test),batch_size=100)"
   ]
  },
  {
   "cell_type": "code",
   "execution_count": 97,
   "metadata": {},
   "outputs": [
    {
     "name": "stdout",
     "output_type": "stream",
     "text": [
      "1/1 [==============================] - 0s 43ms/step\n"
     ]
    },
    {
     "data": {
      "text/plain": [
       "5"
      ]
     },
     "execution_count": 97,
     "metadata": {},
     "output_type": "execute_result"
    }
   ],
   "source": [
    "np.argmax(model.predict(np.array([x_test[54]])))"
   ]
  },
  {
   "cell_type": "code",
   "execution_count": 111,
   "metadata": {},
   "outputs": [
    {
     "data": {
      "text/plain": [
       "<matplotlib.image.AxesImage at 0x7fb21aece7f0>"
      ]
     },
     "execution_count": 111,
     "metadata": {},
     "output_type": "execute_result"
    },
    {
     "data": {
      "image/png": "[encoded data removed]",
      "text/plain": [
       "<Figure size 432x288 with 1 Axes>"
      ]
     },
     "metadata": {
      "needs_background": "light"
     },
     "output_type": "display_data"
    }
   ],
   "source": [
    "plt.imshow(minmax_model.inverse_transform(np.array([x_test[54]])).reshape(8,8))"
   ]
  },
  {
   "cell_type": "code",
   "execution_count": 101,
   "metadata": {},
   "outputs": [],
   "source": []
  },
  {
   "cell_type": "code",
   "execution_count": null,
   "metadata": {},
   "outputs": [],
   "source": []
  },
  {
   "cell_type": "code",
   "execution_count": null,
   "metadata": {},
   "outputs": [],
   "source": []
  },
  {
   "cell_type": "code",
   "execution_count": null,
   "metadata": {},
   "outputs": [],
   "source": []
  },
  {
   "cell_type": "code",
   "execution_count": null,
   "metadata": {},
   "outputs": [],
   "source": []
  },
  {
   "cell_type": "code",
   "execution_count": null,
   "metadata": {},
   "outputs": [],
   "source": []
  },
  {
   "cell_type": "code",
   "execution_count": null,
   "metadata": {},
   "outputs": [],
   "source": []
  },
  {
   "cell_type": "code",
   "execution_count": null,
   "metadata": {},
   "outputs": [],
   "source": []
  },
  {
   "cell_type": "code",
   "execution_count": null,
   "metadata": {},
   "outputs": [],
   "source": []
  },
  {
   "cell_type": "code",
   "execution_count": null,
   "metadata": {},
   "outputs": [],
   "source": []
  },
  {
   "cell_type": "code",
   "execution_count": null,
   "metadata": {},
   "outputs": [],
   "source": []
  },
  {
   "cell_type": "code",
   "execution_count": null,
   "metadata": {},
   "outputs": [],
   "source": []
  },
  {
   "cell_type": "code",
   "execution_count": null,
   "metadata": {},
   "outputs": [],
   "source": []
  },
  {
   "cell_type": "code",
   "execution_count": null,
   "metadata": {},
   "outputs": [],
   "source": []
  },
  {
   "cell_type": "code",
   "execution_count": null,
   "metadata": {},
   "outputs": [],
   "source": []
  },
  {
   "cell_type": "code",
   "execution_count": null,
   "metadata": {},
   "outputs": [],
   "source": []
  }
 ],
 "metadata": {
  "kernelspec": {
   "display_name": "Python 3",
   "language": "python",
   "name": "python3"
  },
  "language_info": {
   "codemirror_mode": {
    "name": "ipython",
    "version": 3
   },
   "file_extension": ".py",
   "mimetype": "text/x-python",
   "name": "python",
   "nbconvert_exporter": "python",
   "pygments_lexer": "ipython3",
   "version": "3.8.5"
  }
 },
 "nbformat": 4,
 "nbformat_minor": 4
}
